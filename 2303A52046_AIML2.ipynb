{
  "nbformat": 4,
  "nbformat_minor": 0,
  "metadata": {
    "colab": {
      "provenance": [],
      "authorship_tag": "ABX9TyO1D/j/g2dTyHSWpQU2qxr5",
      "include_colab_link": true
    },
    "kernelspec": {
      "name": "python3",
      "display_name": "Python 3"
    },
    "language_info": {
      "name": "python"
    }
  },
  "cells": [
    {
      "cell_type": "markdown",
      "metadata": {
        "id": "view-in-github",
        "colab_type": "text"
      },
      "source": [
        "<a href=\"https://colab.research.google.com/github/2303A52046/AIML_2303A52046/blob/main/2303A52046_AIML2.ipynb\" target=\"_parent\"><img src=\"https://colab.research.google.com/assets/colab-badge.svg\" alt=\"Open In Colab\"/></a>"
      ]
    },
    {
      "cell_type": "markdown",
      "source": [
        "Lab-02:Implement AI Search"
      ],
      "metadata": {
        "id": "lwR3MhwPvuju"
      }
    },
    {
      "cell_type": "markdown",
      "source": [
        "Part 1 BFS using Queue"
      ],
      "metadata": {
        "id": "JIJLxx8XwAoW"
      }
    },
    {
      "cell_type": "code",
      "source": [
        "from queue import Queue\n",
        "\n",
        "G = {0:[1,3],1:[0,2,3],3:[0,1,4],2:[1,4,5],4:[3,2,5],5:[4,2],6:[]}\n",
        "print(\"THe adjcent List representing the graph is :\")\n",
        "print(G)\n",
        "\n",
        "def bfs(G,S):\n",
        "  Q = Queue()\n",
        "  visited_vertices = set()\n",
        "  Q.put(S)\n",
        "  visited_vertices.update({0})\n",
        "  while not Q.empty():\n",
        "    u = Q.get()\n",
        "    print(u)\n",
        "    for v in G[u]:\n",
        "      if v not in visited_vertices:\n",
        "        Q.put(v)\n",
        "        visited_vertices.update({v})\n",
        "\n",
        "bfs(G, 0)"
      ],
      "metadata": {
        "id": "Sa3Jums0v4SJ",
        "colab": {
          "base_uri": "https://localhost:8080/"
        },
        "outputId": "eaf5bfd4-fdff-4648-d6e2-d99edb608d98"
      },
      "execution_count": 9,
      "outputs": [
        {
          "output_type": "stream",
          "name": "stdout",
          "text": [
            "THe adjcent List representing the graph is :\n",
            "{0: [1, 3], 1: [0, 2, 3], 3: [0, 1, 4], 2: [1, 4, 5], 4: [3, 2, 5], 5: [4, 2], 6: []}\n",
            "0\n",
            "1\n",
            "3\n",
            "2\n",
            "4\n",
            "5\n"
          ]
        }
      ]
    },
    {
      "cell_type": "markdown",
      "source": [
        "Implement Depth First Search Aldorithm"
      ],
      "metadata": {
        "id": "Py_kFYxDzxw8"
      }
    },
    {
      "cell_type": "code",
      "source": [
        "Graph = {\n",
        "    'B' : ['A'],\n",
        "    'A' : ['B','S'],\n",
        "    'S' : ['A','C'],\n",
        "    'C' : ['D','S','E','F'],\n",
        "    'D' : ['C'],\n",
        "    'E' : ['C'],\n",
        "    'F' : ['C','G',],\n",
        "    'G' : ['S','F','G'],\n",
        "    'H' : ['G','E']\n",
        "}\n",
        "\n",
        "def dfs(Graph, N, Visited):\n",
        "  if N not in Visited:\n",
        "    Visited.append(N)\n",
        "    for neighbour in Graph[N]:\n",
        "      dfs(Graph, neighbour, Visited)\n",
        "  return Visited\n",
        "\n",
        "\n",
        "print = (dfs(Graph, 'B', []))\n",
        "print\n"
      ],
      "metadata": {
        "colab": {
          "base_uri": "https://localhost:8080/"
        },
        "id": "QkqduhVBz5lq",
        "outputId": "e2673bf2-0b8c-41c7-b9e3-bab537f4f887"
      },
      "execution_count": 23,
      "outputs": [
        {
          "output_type": "execute_result",
          "data": {
            "text/plain": [
              "['B', 'A', 'S', 'C', 'D', 'E', 'F', 'G']"
            ]
          },
          "metadata": {},
          "execution_count": 23
        }
      ]
    },
    {
      "cell_type": "markdown",
      "source": [
        "Implementation of A*Algorithm"
      ],
      "metadata": {
        "id": "uJocdoZc4Qfi"
      }
    },
    {
      "cell_type": "code",
      "source": [
        "from copy import deepcopy\n",
        "import numpy as np\n",
        "import time\n",
        "\n",
        "def bestsolution(state):\n",
        "  bestsol = np.array([], int).reshape(-1, 9)\n",
        "  count = len(state) - 1\n",
        "  while count != -1:\n",
        "    bestsol = np.insert(bestsol, 0, state[count]['puzzle'], 0)\n",
        "    count = int(state[count]['parent'])\n",
        "  return bestsol.reshape(-1, 3, 3)\n",
        "\n",
        "def all(checkarray):\n",
        "  set=[]\n",
        "  for it in set:\n",
        "    for checkarray in it:\n",
        "      return 1\n",
        "    else:\n",
        "      return 0\n",
        "\n",
        "def misplaced_tiles(puzzle,goal):\n",
        "  mscost = np.sum(puzzle !=goal) - 1\n",
        "  return mscost if mscost > 0 else 0\n",
        "\n",
        "\n",
        "def coordinates(puzzle):\n",
        "  pos = np.array(range(9))\n",
        "  puzzle = np.array(puzzle)\n",
        "  for p, q in enumerate(puzzle.flatten()):\n",
        "    pos[q] = p\n",
        "  return pos\n",
        "\n",
        "def evaluvate_misplaced(puzzle, goal):\n",
        "    steps = np.array([('up', [0, 1, 2], -3),('down', [6, 7, 8],  3),('left', [0, 3, 6], -1),('right', [2, 5, 8],  1)],\n",
        "                dtype =  [('move',  str, 1),('position', list),('head', int)])\n",
        "\n",
        "    dtstate = [('puzzle',  list),('parent', int),('gn',  int),('hn',  int)]\n",
        "\n",
        "    costg = coordinates(goal)\n",
        "\n",
        "    # initializing the parent, gn and hn, where hn is misplaced_tiles  function call\n",
        "    parent = -1\n",
        "    gn = 0\n",
        "    hn = misplaced_tiles(coordinates(puzzle), costg)\n",
        "    state = np.array([(puzzle, parent, gn, hn)], dtstate)\n",
        "\n",
        "   #priority queues with position as keys and fn as value.\n",
        "    dtpriority = [('position', int),('fn', int)]\n",
        "\n",
        "    priority = np.array([(0, hn)], dtpriority)\n",
        "\n",
        "    while 1:\n",
        "        priority = np.sort(priority, kind='mergesort', order=['fn', 'position'])\n",
        "        position, fn = priority[0]\n",
        "        # sort priority queue using merge sort,the first element is picked for exploring.\n",
        "        priority = np.delete(priority, 0, 0)\n",
        "        puzzle, parent, gn, hn = state[position]\n",
        "        puzzle = np.array(puzzle)\n",
        "\n",
        "        blank = int(np.where(puzzle == 0)[0])\n",
        "\n",
        "        gn = gn + 1\n",
        "        c = 1\n",
        "        start_time = time.time()\n",
        "        for s in steps:\n",
        "            c = c + 1\n",
        "            if blank not in s['position']:\n",
        "                openstates = deepcopy(puzzle)\n",
        "                openstates[blank], openstates[blank + s['head']] = openstates[blank + s['head']], openstates[blank]\n",
        "\n",
        "                if ~(np.all(list(state['puzzle']) == openstates, 1)).any():\n",
        "                    end_time = time.time()\n",
        "                    if (( end_time - start_time ) > 2):\n",
        "                        print(\" The 8 puzzle is unsolvable \\n\")\n",
        "                        break\n",
        "\n",
        "                    hn = misplaced_tiles(coordinates(openstates), costg)\n",
        "                    # generate and add new state in the list\n",
        "                    q = np.array([(openstates, position, gn, hn)], dtstate)\n",
        "                    state = np.append(state, q, 0)\n",
        "                    # f(n) is the sum of cost to reach node\n",
        "                    fn = gn + hn\n",
        "\n",
        "                    q = np.array([(len(state) - 1, fn)], dtpriority)\n",
        "                    priority = np.append(priority, q, 0)\n",
        "\n",
        "                    if np.array_equal(openstates, goal):\n",
        "                      print(' The 8 puzzle is solvable \\n')\n",
        "                    return state, len(priority)\n",
        "\n",
        "\n",
        "    return state, len(priority)\n",
        "\n",
        "\n",
        "# initial state\n",
        "puzzle = []\n",
        "\n",
        "puzzle.append(2)\n",
        "puzzle.append(8)\n",
        "puzzle.append(3)\n",
        "puzzle.append(7)\n",
        "puzzle.append(1)\n",
        "puzzle.append(4)\n",
        "puzzle.append(0)\n",
        "puzzle.append(6)\n",
        "puzzle.append(5)\n",
        "\n",
        "#goal state\n",
        "goal = []\n",
        "\n",
        "goal.append(1)\n",
        "goal.append(2)\n",
        "goal.append(3)\n",
        "goal.append(8)\n",
        "goal.append(0)\n",
        "goal.append(4)\n",
        "goal.append(7)\n",
        "goal.append(6)\n",
        "goal.append(5)\n",
        "\n",
        "\n",
        "state, visited = evaluvate_misplaced(puzzle, goal)\n",
        "bestpath = bestsolution(state)\n",
        "print(str(bestpath).replace('[', ' ').replace(']', ''))\n",
        "totalmoves = len(bestpath) - 1\n",
        "print('\\nSteps to reach goal:',totalmoves)\n",
        "visit = len(state) - visited\n",
        "print('Total nodes visited: ',visit, \"\\n\")\n",
        "\n"
      ],
      "metadata": {
        "colab": {
          "base_uri": "https://localhost:8080/"
        },
        "id": "TVfL2Y364YFq",
        "outputId": "7400340d-c92b-477f-a3b8-828b552adc6a"
      },
      "execution_count": 1,
      "outputs": [
        {
          "output_type": "stream",
          "name": "stdout",
          "text": [
            "   2 8 3\n",
            "   7 1 4\n",
            "   0 6 5\n",
            "\n",
            "   2 8 3\n",
            "   0 1 4\n",
            "   7 6 5\n",
            "\n",
            "Steps to reach goal: 1\n",
            "Total nodes visited:  1 \n",
            "\n"
          ]
        },
        {
          "output_type": "stream",
          "name": "stderr",
          "text": [
            "<ipython-input-1-43f7262aaccd>:60: DeprecationWarning: Conversion of an array with ndim > 0 to a scalar is deprecated, and will error in future. Ensure you extract a single element from your array before performing this operation. (Deprecated NumPy 1.25.)\n",
            "  blank = int(np.where(puzzle == 0)[0])\n"
          ]
        }
      ]
    }
  ]
}